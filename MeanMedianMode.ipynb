{
 "cells": [
  {
   "cell_type": "markdown",
   "metadata": {
    "deletable": true,
    "editable": true
   },
   "source": [
    "# Mean, Median, Mode, and introducing NumPy"
   ]
  },
  {
   "cell_type": "markdown",
   "metadata": {
    "deletable": true,
    "editable": true
   },
   "source": [
    "## Mean vs. Median"
   ]
  },
  {
   "cell_type": "markdown",
   "metadata": {
    "deletable": true,
    "editable": true
   },
   "source": [
    "Let's create some fake income data, centered around 27,000 with a normal distribution and standard deviation of 15,000, with 10,000 data points. (We'll discuss those terms more later, if you're not familiar with them.)\n",
    "\n",
    "Then, compute the mean (average) - it should be close to 27,000:"
   ]
  },
  {
   "cell_type": "code",
   "execution_count": 16,
   "metadata": {
    "collapsed": false,
    "deletable": true,
    "editable": true
   },
   "outputs": [
    {
     "data": {
      "text/plain": [
       "19979.706624438353"
      ]
     },
     "execution_count": 16,
     "metadata": {},
     "output_type": "execute_result"
    }
   ],
   "source": [
    "import numpy as np\n",
    "\n",
    "incomes = np.random.normal(20000, 15000, 10000)\n",
    "np.mean(incomes)"
   ]
  },
  {
   "cell_type": "markdown",
   "metadata": {
    "deletable": true,
    "editable": true
   },
   "source": [
    "We can segment the income data into 50 buckets, and plot it as a histogram:"
   ]
  },
  {
   "cell_type": "code",
   "execution_count": 17,
   "metadata": {
    "collapsed": false,
    "deletable": true,
    "editable": true
   },
   "outputs": [
    {
     "data": {
      "image/png": "[encoded data removed]",
      "text/plain": [
       "<matplotlib.figure.Figure at 0x2695e9187b8>"
      ]
     },
     "metadata": {},
     "output_type": "display_data"
    }
   ],
   "source": [
    "\n",
    "import matplotlib.pyplot as plt\n",
    "plt.hist(incomes, 50)\n",
    "plt.show()"
   ]
  },
  {
   "cell_type": "markdown",
   "metadata": {
    "deletable": true,
    "editable": true
   },
   "source": [
    "Now compute the median - since we have a nice, even distribution it too should be close to 27,000:"
   ]
  },
  {
   "cell_type": "code",
   "execution_count": 18,
   "metadata": {
    "collapsed": false,
    "deletable": true,
    "editable": true
   },
   "outputs": [
    {
     "data": {
      "text/plain": [
       "20022.74842011743"
      ]
     },
     "execution_count": 18,
     "metadata": {},
     "output_type": "execute_result"
    }
   ],
   "source": [
    "np.median(incomes)"
   ]
  },
  {
   "cell_type": "markdown",
   "metadata": {
    "deletable": true,
    "editable": true
   },
   "source": [
    "Now we'll add Donald Trump into the mix. Darn income inequality!"
   ]
  },
  {
   "cell_type": "code",
   "execution_count": 19,
   "metadata": {
    "collapsed": false,
    "deletable": true,
    "editable": true
   },
   "outputs": [],
   "source": [
    "incomes = np.append(incomes, [1000000000])"
   ]
  },
  {
   "cell_type": "markdown",
   "metadata": {
    "deletable": true,
    "editable": true
   },
   "source": [
    "The median won't change much, but the mean does:"
   ]
  },
  {
   "cell_type": "code",
   "execution_count": 20,
   "metadata": {
    "collapsed": false,
    "deletable": true,
    "editable": true
   },
   "outputs": [
    {
     "data": {
      "text/plain": [
       "20026.115209600495"
      ]
     },
     "execution_count": 20,
     "metadata": {},
     "output_type": "execute_result"
    }
   ],
   "source": [
    "np.median(incomes)"
   ]
  },
  {
   "cell_type": "code",
   "execution_count": 21,
   "metadata": {
    "collapsed": false,
    "deletable": true,
    "editable": true
   },
   "outputs": [
    {
     "data": {
      "text/plain": [
       "119967.70985345301"
      ]
     },
     "execution_count": 21,
     "metadata": {},
     "output_type": "execute_result"
    }
   ],
   "source": [
    "np.mean(incomes)"
   ]
  },
  {
   "cell_type": "markdown",
   "metadata": {
    "deletable": true,
    "editable": true
   },
   "source": [
    "## Mode"
   ]
  },
  {
   "cell_type": "markdown",
   "metadata": {
    "deletable": true,
    "editable": true
   },
   "source": [
    "Next, let's generate some fake age data for 500 people:"
   ]
  },
  {
   "cell_type": "code",
   "execution_count": 13,
   "metadata": {
    "collapsed": false,
    "deletable": true,
    "editable": true
   },
   "outputs": [
    {
     "data": {
      "text/plain": [
       "array([ 76,  51,  42, 141,  68,  58,  43, 137,  91,  86,  24,  98, 131,\n",
       "       117,  28,  55,  69,  43,  22,  45,  44,  83, 149,  27, 135,  63,\n",
       "        90,  33,  43,  74,  97, 135,  51,  41,  50, 121,  26,  52,  91,\n",
       "        63, 146, 144,  53, 106,  83,  98, 124,  58, 110, 143,  45,  90,\n",
       "       147,  36, 143,  98, 117, 129,  19,  68, 129,  80,  59,  69,  39,\n",
       "       132, 137,  71, 109, 107,  49,  70,  39,  66,  21,  31, 123, 101,\n",
       "        29,  71, 106,  83,  64,  32,  86,  26,  24,  59, 115, 138,  74,\n",
       "        94,  87, 100,  58,  41,  88, 110,  34,  79,  72,  50,  47, 128,\n",
       "       115, 113,  29,  91,  95,  35, 104, 147,  61,  37,  79, 127,  81,\n",
       "        54,  23, 137,  89, 128,  80,  60,  59,  91,  33,  51, 113,  48,\n",
       "        60, 142,  89, 125,  66,  60,  35,  48,  99,  70, 131,  63,  54,\n",
       "       115,  90, 117, 113,  85,  37, 149, 137,  54, 133,  30,  86,  57,\n",
       "        52,  58,  59,  22,  63, 149,  18,  32,  37,  38, 146,  66,  61,\n",
       "       100,  33,  60, 120,  78,  25, 116, 129,  65, 133,  96,  36,  30,\n",
       "       137,  31,  84,  67,  52,  89,  96,  52, 111,  96,  47,  72, 131,\n",
       "       140, 109,  46,  23,  72,  90,  95, 143,  68,  44,  78, 143, 115,\n",
       "       112, 111,  42,  21,  91,  24,  94, 122, 142,  20,  19,  91, 128,\n",
       "        66,  98,  70, 109, 119, 113, 144,  69, 120,  69, 125, 133, 110,\n",
       "        89,  62,  38, 121,  52, 127,  72, 120, 122,  97,  34,  64, 140,\n",
       "        83,  68, 118, 106,  82,  22,  95, 111,  99,  47, 133,  35, 139,\n",
       "       108,  56, 105,  54,  39,  91,  31, 127,  38,  53,  68, 116, 137,\n",
       "       125,  76,  43,  59,  61,  81, 106,  56, 149,  89,  53,  53, 113,\n",
       "        79,  23, 125,  18,  53, 124,  44, 141,  77, 122, 131,  82, 114,\n",
       "        24,  36,  79, 103,  43,  58, 121, 126, 109,  51, 103,  71,  73,\n",
       "        54,  20, 133, 138, 131, 139, 132,  66, 129, 119,  95,  19,  61,\n",
       "        68, 136,  76,  46,  78, 147, 118,  82, 137,  54,  81,  63, 127,\n",
       "       142,  34,  90,  77,  89, 128,  34, 109,  80,  89,  57,  28,  51,\n",
       "        43,  67,  78,  28,  33,  24,  41, 128,  19, 123,  29,  70, 125,\n",
       "        97,  85,  99, 141, 146,  29, 108, 124,  86,  82,  30, 105,  95,\n",
       "        97,  80, 127, 121,  46, 125,  46, 111,  70, 126, 109, 143,  30,\n",
       "        86, 117, 127,  77,  72, 141, 110,  94,  74,  54,  35, 117, 111,\n",
       "        78,  53,  40,  18,  42,  83,  92,  43,  44,  18,  84,  28, 141,\n",
       "       102,  20,  31,  91, 127,  31, 136, 137,  68,  25,  98, 135,  19,\n",
       "       120,  95,  65,  66,  77,  70,  55, 112, 119,  98, 113,  54, 129,\n",
       "        74,  32, 134, 142,  57,  83,  48, 107,  71,  59,  39, 102,  65,\n",
       "       117, 100,  63,  31,  29, 127, 148,  83, 135,  74, 120, 141,  62,\n",
       "        46,  65,  98, 137,  34, 145, 149,  84,  54,  79, 110,  55, 123,\n",
       "        99,  38, 130,  66,  19,  25,  62,  43, 137, 108,  79,  33,  53,\n",
       "        48,  84,  53,  40,  61,  75])"
      ]
     },
     "execution_count": 13,
     "metadata": {},
     "output_type": "execute_result"
    }
   ],
   "source": [
    "ages = np.random.randint(18, high=150, size=500)\n",
    "ages"
   ]
  },
  {
   "cell_type": "code",
   "execution_count": 14,
   "metadata": {
    "collapsed": false,
    "deletable": true,
    "editable": true
   },
   "outputs": [
    {
     "data": {
      "text/plain": [
       "ModeResult(mode=array([137]), count=array([10]))"
      ]
     },
     "execution_count": 14,
     "metadata": {},
     "output_type": "execute_result"
    }
   ],
   "source": [
    "from scipy import stats\n",
    "stats.mode(ages)"
   ]
  },
  {
   "cell_type": "code",
   "execution_count": null,
   "metadata": {
    "collapsed": false,
    "deletable": true,
    "editable": true
   },
   "outputs": [],
   "source": []
  },
  {
   "cell_type": "code",
   "execution_count": null,
   "metadata": {
    "collapsed": true
   },
   "outputs": [],
   "source": []
  }
 ],
 "metadata": {
  "kernelspec": {
   "display_name": "Python 3",
   "language": "python",
   "name": "python3"
  },
  "language_info": {
   "codemirror_mode": {
    "name": "ipython",
    "version": 3
   },
   "file_extension": ".py",
   "mimetype": "text/x-python",
   "name": "python",
   "nbconvert_exporter": "python",
   "pygments_lexer": "ipython3",
   "version": "3.5.2"
  }
 },
 "nbformat": 4,
 "nbformat_minor": 0
}
